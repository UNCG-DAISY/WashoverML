{
 "cells": [
  {
   "cell_type": "code",
   "execution_count": 1,
   "metadata": {},
   "outputs": [
    {
     "name": "stdout",
     "output_type": "stream",
     "text": [
      "TF version: 2.3.0\n"
     ]
    }
   ],
   "source": [
    "# import the general stuff\n",
    "import os\n",
    "from os import getcwd\n",
    "import matplotlib.pyplot as plt\n",
    "import pandas as pd \n",
    "import numpy as np\n",
    "from sklearn import metrics\n",
    "\n",
    "#import stuff for gradCAM\n",
    "import matplotlib.cm as cm\n",
    "from IPython.display import Image\n",
    "\n",
    "#import the tf stuff\n",
    "import tensorflow as tf\n",
    "from tensorflow.keras import layers\n",
    "from tensorflow.keras import Model\n",
    "\n",
    "from tensorflow.keras.preprocessing.image import ImageDataGenerator\n",
    "\n",
    "#Check TensorFlow Version\n",
    "print('TF version: {}' .format(tf.__version__))"
   ]
  },
  {
   "cell_type": "code",
   "execution_count": 2,
   "metadata": {},
   "outputs": [
    {
     "name": "stdout",
     "output_type": "stream",
     "text": [
      " GPU: /device:GPU:0\n"
     ]
    }
   ],
   "source": [
    "#Check for GPU utilization\n",
    "if tf.test.gpu_device_name():\n",
    "    print(' GPU: {}'.format(tf.test.gpu_device_name()))\n",
    "else:\n",
    "    print(\"No GPU\")"
   ]
  },
  {
   "cell_type": "code",
   "execution_count": 7,
   "metadata": {},
   "outputs": [],
   "source": [
    "# define a callback\n",
    "\n",
    "callbacks = tf.keras.callbacks.EarlyStopping(monitor = 'val_acc', \n",
    "                                             patience = 30, \n",
    "                                             restore_best_weights = True)"
   ]
  },
  {
   "cell_type": "code",
   "execution_count": 3,
   "metadata": {},
   "outputs": [
    {
     "name": "stdout",
     "output_type": "stream",
     "text": [
      "143\n",
      "167\n",
      "36\n",
      "42\n"
     ]
    }
   ],
   "source": [
    "# Define dirs and files\n",
    "train_dir = '../data/training/'\n",
    "validation_dir = '../data/validation/'\n",
    "\n",
    "train_wash_dir = os.path.join(train_dir,'wash')\n",
    "train_nowash_dir = os.path.join(train_dir,'nowash')\n",
    "validation_wash_dir = os.path.join(validation_dir,'wash')\n",
    "validation_nowash_dir = os.path.join(validation_dir,'nowash')\n",
    "\n",
    "train_wash_fnames = os.listdir(train_wash_dir)\n",
    "train_nowash_fnames = os.listdir(train_nowash_dir)\n",
    "validation_wash_fnames = os.listdir(validation_wash_dir)\n",
    "validation_nowash_fnames = os.listdir(validation_nowash_dir)\n",
    "\n",
    "\n",
    "print(len(os.listdir(train_wash_dir)))\n",
    "print(len(os.listdir(train_nowash_dir)))\n",
    "print(len(os.listdir(validation_wash_dir)))\n",
    "print(len(os.listdir(validation_nowash_dir)))\n",
    "\n",
    "total_train=len(os.listdir(train_wash_dir))+ len(os.listdir(train_nowash_dir))\n",
    "total_val=len(os.listdir(validation_wash_dir))+ len(os.listdir(validation_nowash_dir))"
   ]
  },
  {
   "cell_type": "code",
   "execution_count": 4,
   "metadata": {},
   "outputs": [
    {
     "name": "stdout",
     "output_type": "stream",
     "text": [
      "Found 310 images belonging to 2 classes.\n",
      "Found 78 images belonging to 2 classes.\n"
     ]
    }
   ],
   "source": [
    "#build data generators for training and validaton\n",
    "\n",
    "# Add our data-augmentation parameters to ImageDataGenerator\n",
    "train_datagen = ImageDataGenerator( rescale =1./255.,\n",
    "                                   rotation_range = 90,\n",
    "                                   width_shift_range = 0.5,\n",
    "                                   height_shift_range = 0.5,\n",
    "                                   shear_range = 0.45,\n",
    "                                   zoom_range = 0.2,\n",
    "                                   horizontal_flip = True,\n",
    "                                   vertical_flip = True)\n",
    "\n",
    "# rescale val data\n",
    "val_datagen = ImageDataGenerator( rescale =1./255.,\n",
    "                                   rotation_range = 90,\n",
    "                                   width_shift_range = 0.5,\n",
    "                                   height_shift_range = 0.5,\n",
    "                                   shear_range = 0.45,\n",
    "                                   zoom_range = 0.2,\n",
    "                                   horizontal_flip = True,\n",
    "                                   vertical_flip = True)\n",
    "\n",
    "#set batch Size\n",
    "batch_size = 8\n",
    "\n",
    "#set Image size (RGB so imshape is 3)\n",
    "pix_dim = 416\n",
    "imsize = (pix_dim,pix_dim) \n",
    "imshape = (pix_dim,pix_dim,3)\n",
    "\n",
    "# Flow training images in batches \n",
    "train_generator = train_datagen.flow_from_directory(train_dir,\n",
    "                                                    batch_size = batch_size,\n",
    "                                                    class_mode = 'binary',\n",
    "                                                    target_size = imsize)\n",
    "\n",
    "# Flow validation images in batches \n",
    "validation_generator =  val_datagen.flow_from_directory( validation_dir,\n",
    "                                                         batch_size = batch_size,\n",
    "                                                         class_mode = 'binary',\n",
    "                                                         target_size = imsize)\n"
   ]
  },
  {
   "cell_type": "code",
   "execution_count": 20,
   "metadata": {},
   "outputs": [],
   "source": [
    "# define the metrics\n",
    "acc_metric = tf.keras.metrics.BinaryAccuracy(name='acc')"
   ]
  },
  {
   "cell_type": "code",
   "execution_count": 21,
   "metadata": {},
   "outputs": [
    {
     "name": "stdout",
     "output_type": "stream",
     "text": [
      "Model: \"vgg16\"\n",
      "_________________________________________________________________\n",
      "Layer (type)                 Output Shape              Param #   \n",
      "=================================================================\n",
      "input_3 (InputLayer)         [(None, 416, 416, 3)]     0         \n",
      "_________________________________________________________________\n",
      "block1_conv1 (Conv2D)        (None, 416, 416, 64)      1792      \n",
      "_________________________________________________________________\n",
      "block1_conv2 (Conv2D)        (None, 416, 416, 64)      36928     \n",
      "_________________________________________________________________\n",
      "block1_pool (MaxPooling2D)   (None, 208, 208, 64)      0         \n",
      "_________________________________________________________________\n",
      "block2_conv1 (Conv2D)        (None, 208, 208, 128)     73856     \n",
      "_________________________________________________________________\n",
      "block2_conv2 (Conv2D)        (None, 208, 208, 128)     147584    \n",
      "_________________________________________________________________\n",
      "block2_pool (MaxPooling2D)   (None, 104, 104, 128)     0         \n",
      "_________________________________________________________________\n",
      "block3_conv1 (Conv2D)        (None, 104, 104, 256)     295168    \n",
      "_________________________________________________________________\n",
      "block3_conv2 (Conv2D)        (None, 104, 104, 256)     590080    \n",
      "_________________________________________________________________\n",
      "block3_conv3 (Conv2D)        (None, 104, 104, 256)     590080    \n",
      "_________________________________________________________________\n",
      "block3_pool (MaxPooling2D)   (None, 52, 52, 256)       0         \n",
      "_________________________________________________________________\n",
      "block4_conv1 (Conv2D)        (None, 52, 52, 512)       1180160   \n",
      "_________________________________________________________________\n",
      "block4_conv2 (Conv2D)        (None, 52, 52, 512)       2359808   \n",
      "_________________________________________________________________\n",
      "block4_conv3 (Conv2D)        (None, 52, 52, 512)       2359808   \n",
      "_________________________________________________________________\n",
      "block4_pool (MaxPooling2D)   (None, 26, 26, 512)       0         \n",
      "_________________________________________________________________\n",
      "block5_conv1 (Conv2D)        (None, 26, 26, 512)       2359808   \n",
      "_________________________________________________________________\n",
      "block5_conv2 (Conv2D)        (None, 26, 26, 512)       2359808   \n",
      "_________________________________________________________________\n",
      "block5_conv3 (Conv2D)        (None, 26, 26, 512)       2359808   \n",
      "_________________________________________________________________\n",
      "block5_pool (MaxPooling2D)   (None, 13, 13, 512)       0         \n",
      "=================================================================\n",
      "Total params: 14,714,688\n",
      "Trainable params: 14,714,688\n",
      "Non-trainable params: 0\n",
      "_________________________________________________________________\n"
     ]
    }
   ],
   "source": [
    "#base model, no top layer, w/ imagenet weights\n",
    "base_model = tf.keras.applications.VGG16(input_shape = imshape, \n",
    "                                             include_top = False, \n",
    "                                             weights = 'imagenet')\n",
    "\n",
    "base_model.trainable = True\n",
    "base_model.summary()\n"
   ]
  },
  {
   "cell_type": "code",
   "execution_count": 22,
   "metadata": {},
   "outputs": [
    {
     "name": "stdout",
     "output_type": "stream",
     "text": [
      "shape of last layer is  (None, 13, 13, 512)\n",
      "Model: \"functional_5\"\n",
      "_________________________________________________________________\n",
      "Layer (type)                 Output Shape              Param #   \n",
      "=================================================================\n",
      "input_3 (InputLayer)         [(None, 416, 416, 3)]     0         \n",
      "_________________________________________________________________\n",
      "block1_conv1 (Conv2D)        (None, 416, 416, 64)      1792      \n",
      "_________________________________________________________________\n",
      "block1_conv2 (Conv2D)        (None, 416, 416, 64)      36928     \n",
      "_________________________________________________________________\n",
      "block1_pool (MaxPooling2D)   (None, 208, 208, 64)      0         \n",
      "_________________________________________________________________\n",
      "block2_conv1 (Conv2D)        (None, 208, 208, 128)     73856     \n",
      "_________________________________________________________________\n",
      "block2_conv2 (Conv2D)        (None, 208, 208, 128)     147584    \n",
      "_________________________________________________________________\n",
      "block2_pool (MaxPooling2D)   (None, 104, 104, 128)     0         \n",
      "_________________________________________________________________\n",
      "block3_conv1 (Conv2D)        (None, 104, 104, 256)     295168    \n",
      "_________________________________________________________________\n",
      "block3_conv2 (Conv2D)        (None, 104, 104, 256)     590080    \n",
      "_________________________________________________________________\n",
      "block3_conv3 (Conv2D)        (None, 104, 104, 256)     590080    \n",
      "_________________________________________________________________\n",
      "block3_pool (MaxPooling2D)   (None, 52, 52, 256)       0         \n",
      "_________________________________________________________________\n",
      "block4_conv1 (Conv2D)        (None, 52, 52, 512)       1180160   \n",
      "_________________________________________________________________\n",
      "block4_conv2 (Conv2D)        (None, 52, 52, 512)       2359808   \n",
      "_________________________________________________________________\n",
      "block4_conv3 (Conv2D)        (None, 52, 52, 512)       2359808   \n",
      "_________________________________________________________________\n",
      "block4_pool (MaxPooling2D)   (None, 26, 26, 512)       0         \n",
      "_________________________________________________________________\n",
      "block5_conv1 (Conv2D)        (None, 26, 26, 512)       2359808   \n",
      "_________________________________________________________________\n",
      "block5_conv2 (Conv2D)        (None, 26, 26, 512)       2359808   \n",
      "_________________________________________________________________\n",
      "block5_conv3 (Conv2D)        (None, 26, 26, 512)       2359808   \n",
      "_________________________________________________________________\n",
      "block5_pool (MaxPooling2D)   (None, 13, 13, 512)       0         \n",
      "_________________________________________________________________\n",
      "flatten_2 (Flatten)          (None, 86528)             0         \n",
      "_________________________________________________________________\n",
      "dense_4 (Dense)              (None, 1024)              88605696  \n",
      "_________________________________________________________________\n",
      "dropout_2 (Dropout)          (None, 1024)              0         \n",
      "_________________________________________________________________\n",
      "dense_5 (Dense)              (None, 1)                 1025      \n",
      "=================================================================\n",
      "Total params: 103,321,409\n",
      "Trainable params: 103,321,409\n",
      "Non-trainable params: 0\n",
      "_________________________________________________________________\n"
     ]
    }
   ],
   "source": [
    "# add a new classifcation layer\n",
    "\n",
    "final_layer = base_model.get_layer('block5_pool')\n",
    "print('shape of last layer is ', final_layer.output_shape)\n",
    "final_base_output = final_layer.output\n",
    "\n",
    "\n",
    "#add the last layer\n",
    "# Flatten the output layer to 1 dimension\n",
    "x = layers.Flatten()(final_base_output )\n",
    "# Add a fully connected layer with 1,024 hidden units and ReLU activation\n",
    "# x = layers.Dense(1024, activation='relu', kernel_regularizer = 'l2')(x)\n",
    "x = layers.Dense(1024, activation='relu', kernel_regularizer = tf.keras.regularizers.l2(1e-4))(x)\n",
    "# x = layers.Dense(1024, activation='relu')(x)\n",
    "# Add a dropout rate of 0.5\n",
    "x = layers.Dropout(0.5)(x)                  \n",
    "# Add a final sigmoid layer for classification\n",
    "x = layers.Dense(1, activation='sigmoid')(x)           \n",
    "\n",
    "model = Model(base_model.input, x) \n",
    "\n",
    "model.summary()"
   ]
  },
  {
   "cell_type": "code",
   "execution_count": 23,
   "metadata": {},
   "outputs": [],
   "source": [
    "#build the model\n",
    "model.compile(loss = 'binary_crossentropy',\n",
    "              optimizer = tf.keras.optimizers.RMSprop(lr = 1e-5, decay = 1e-5),\n",
    "              metrics = acc_metric)"
   ]
  },
  {
   "cell_type": "code",
   "execution_count": 24,
   "metadata": {},
   "outputs": [
    {
     "name": "stdout",
     "output_type": "stream",
     "text": [
      "Epoch 1/200\n",
      " 2/38 [>.............................] - ETA: 7s - loss: 0.8485 - acc: 0.6875WARNING:tensorflow:Callbacks method `on_train_batch_end` is slow compared to the batch time (batch time: 0.1457s vs `on_train_batch_end` time: 0.2931s). Check your callbacks.\n",
      "38/38 [==============================] - 77s 2s/step - loss: 0.8406 - acc: 0.6722 - val_loss: 0.7377 - val_acc: 0.7083\n",
      "Epoch 2/200\n",
      "38/38 [==============================] - 79s 2s/step - loss: 0.6134 - acc: 0.8046 - val_loss: 0.4950 - val_acc: 0.8472\n",
      "Epoch 3/200\n",
      "38/38 [==============================] - 81s 2s/step - loss: 0.5705 - acc: 0.8146 - val_loss: 0.4555 - val_acc: 0.8750\n",
      "Epoch 4/200\n",
      "38/38 [==============================] - 80s 2s/step - loss: 0.5743 - acc: 0.8179 - val_loss: 0.4857 - val_acc: 0.8472\n",
      "Epoch 5/200\n",
      "38/38 [==============================] - 80s 2s/step - loss: 0.4950 - acc: 0.8411 - val_loss: 1.9262 - val_acc: 0.5694\n",
      "Epoch 6/200\n",
      "38/38 [==============================] - 80s 2s/step - loss: 0.5184 - acc: 0.8344 - val_loss: 0.4483 - val_acc: 0.8472\n",
      "Epoch 7/200\n",
      "38/38 [==============================] - 81s 2s/step - loss: 0.4956 - acc: 0.8278 - val_loss: 0.4119 - val_acc: 0.8750\n",
      "Epoch 8/200\n",
      "38/38 [==============================] - 81s 2s/step - loss: 0.4733 - acc: 0.8675 - val_loss: 0.4506 - val_acc: 0.8333\n",
      "Epoch 9/200\n",
      "38/38 [==============================] - 81s 2s/step - loss: 0.5035 - acc: 0.8411 - val_loss: 0.4122 - val_acc: 0.9028\n",
      "Epoch 10/200\n",
      "38/38 [==============================] - 79s 2s/step - loss: 0.4210 - acc: 0.8609 - val_loss: 0.4150 - val_acc: 0.8472\n",
      "Epoch 11/200\n",
      "38/38 [==============================] - 81s 2s/step - loss: 0.4332 - acc: 0.8609 - val_loss: 0.3839 - val_acc: 0.8889\n",
      "Epoch 12/200\n",
      "38/38 [==============================] - 81s 2s/step - loss: 0.3944 - acc: 0.8609 - val_loss: 0.5091 - val_acc: 0.7222\n",
      "Epoch 13/200\n",
      "38/38 [==============================] - 81s 2s/step - loss: 0.4003 - acc: 0.8444 - val_loss: 0.3816 - val_acc: 0.8889\n",
      "Epoch 14/200\n",
      "38/38 [==============================] - 81s 2s/step - loss: 0.3674 - acc: 0.8709 - val_loss: 0.7233 - val_acc: 0.7917\n",
      "Epoch 15/200\n",
      "38/38 [==============================] - 80s 2s/step - loss: 0.3372 - acc: 0.8940 - val_loss: 0.4007 - val_acc: 0.8889\n",
      "Epoch 16/200\n",
      "38/38 [==============================] - 81s 2s/step - loss: 0.4604 - acc: 0.8775 - val_loss: 0.4625 - val_acc: 0.8611\n",
      "Epoch 17/200\n",
      "38/38 [==============================] - 81s 2s/step - loss: 0.3122 - acc: 0.8775 - val_loss: 0.5456 - val_acc: 0.8472\n",
      "Epoch 18/200\n",
      "38/38 [==============================] - 81s 2s/step - loss: 0.3673 - acc: 0.8576 - val_loss: 0.3712 - val_acc: 0.8611\n",
      "Epoch 19/200\n",
      "38/38 [==============================] - 81s 2s/step - loss: 0.3118 - acc: 0.8642 - val_loss: 0.4732 - val_acc: 0.8750\n",
      "Epoch 20/200\n",
      "38/38 [==============================] - 81s 2s/step - loss: 0.3277 - acc: 0.8808 - val_loss: 0.3765 - val_acc: 0.9306\n",
      "Epoch 21/200\n",
      "38/38 [==============================] - 81s 2s/step - loss: 0.3706 - acc: 0.8586 - val_loss: 0.3472 - val_acc: 0.8889\n",
      "Epoch 22/200\n",
      "38/38 [==============================] - 81s 2s/step - loss: 0.3327 - acc: 0.8609 - val_loss: 0.4063 - val_acc: 0.8750\n",
      "Epoch 23/200\n",
      "38/38 [==============================] - 81s 2s/step - loss: 0.3007 - acc: 0.9040 - val_loss: 0.3837 - val_acc: 0.8750\n",
      "Epoch 24/200\n",
      "38/38 [==============================] - 80s 2s/step - loss: 0.3462 - acc: 0.8576 - val_loss: 0.3228 - val_acc: 0.9028\n",
      "Epoch 25/200\n",
      "38/38 [==============================] - 81s 2s/step - loss: 0.2793 - acc: 0.8940 - val_loss: 0.3586 - val_acc: 0.8889\n",
      "Epoch 26/200\n",
      "38/38 [==============================] - 80s 2s/step - loss: 0.2772 - acc: 0.9073 - val_loss: 0.4341 - val_acc: 0.8472\n",
      "Epoch 27/200\n",
      "38/38 [==============================] - 79s 2s/step - loss: 0.2791 - acc: 0.8940 - val_loss: 0.6565 - val_acc: 0.8194\n",
      "Epoch 28/200\n",
      "38/38 [==============================] - 80s 2s/step - loss: 0.3225 - acc: 0.8775 - val_loss: 0.3038 - val_acc: 0.8889\n",
      "Epoch 29/200\n",
      "38/38 [==============================] - 81s 2s/step - loss: 0.2517 - acc: 0.9139 - val_loss: 0.3394 - val_acc: 0.8333\n",
      "Epoch 30/200\n",
      "38/38 [==============================] - 81s 2s/step - loss: 0.2617 - acc: 0.9139 - val_loss: 0.3229 - val_acc: 0.8889\n",
      "Epoch 31/200\n",
      "38/38 [==============================] - 81s 2s/step - loss: 0.2541 - acc: 0.9139 - val_loss: 0.3506 - val_acc: 0.8611\n",
      "Epoch 32/200\n",
      "38/38 [==============================] - 80s 2s/step - loss: 0.2916 - acc: 0.8907 - val_loss: 0.4467 - val_acc: 0.8750\n",
      "Epoch 33/200\n",
      "38/38 [==============================] - 81s 2s/step - loss: 0.2603 - acc: 0.8940 - val_loss: 0.3122 - val_acc: 0.8472\n",
      "Epoch 34/200\n",
      "38/38 [==============================] - 81s 2s/step - loss: 0.2282 - acc: 0.9073 - val_loss: 1.3924 - val_acc: 0.6806\n",
      "Epoch 35/200\n",
      "38/38 [==============================] - 80s 2s/step - loss: 0.2513 - acc: 0.9106 - val_loss: 0.3370 - val_acc: 0.9167\n",
      "Epoch 36/200\n",
      "38/38 [==============================] - 82s 2s/step - loss: 0.2591 - acc: 0.9040 - val_loss: 0.3165 - val_acc: 0.8750\n",
      "Epoch 37/200\n",
      "38/38 [==============================] - 80s 2s/step - loss: 0.2279 - acc: 0.9205 - val_loss: 0.3208 - val_acc: 0.9028\n",
      "Epoch 38/200\n",
      "38/38 [==============================] - 81s 2s/step - loss: 0.2014 - acc: 0.9338 - val_loss: 0.4374 - val_acc: 0.8889\n",
      "Epoch 39/200\n",
      "38/38 [==============================] - 80s 2s/step - loss: 0.3024 - acc: 0.9073 - val_loss: 0.3265 - val_acc: 0.9167\n",
      "Epoch 40/200\n",
      "38/38 [==============================] - 81s 2s/step - loss: 0.2023 - acc: 0.9172 - val_loss: 0.7214 - val_acc: 0.9028\n",
      "Epoch 41/200\n",
      "38/38 [==============================] - 80s 2s/step - loss: 0.2805 - acc: 0.9139 - val_loss: 0.3775 - val_acc: 0.8611\n",
      "Epoch 42/200\n",
      "38/38 [==============================] - 81s 2s/step - loss: 0.2533 - acc: 0.9040 - val_loss: 0.4171 - val_acc: 0.9028\n",
      "Epoch 43/200\n",
      "38/38 [==============================] - 81s 2s/step - loss: 0.2177 - acc: 0.9205 - val_loss: 0.2490 - val_acc: 0.8889\n",
      "Epoch 44/200\n",
      "38/38 [==============================] - 80s 2s/step - loss: 0.1831 - acc: 0.9371 - val_loss: 0.4712 - val_acc: 0.8750\n",
      "Epoch 45/200\n",
      "38/38 [==============================] - 81s 2s/step - loss: 0.2219 - acc: 0.9073 - val_loss: 0.2957 - val_acc: 0.8889\n",
      "Epoch 46/200\n",
      "38/38 [==============================] - 81s 2s/step - loss: 0.2825 - acc: 0.9238 - val_loss: 0.3577 - val_acc: 0.8611\n",
      "Epoch 47/200\n",
      "38/38 [==============================] - 81s 2s/step - loss: 0.2020 - acc: 0.9205 - val_loss: 0.1879 - val_acc: 0.9306\n",
      "Epoch 48/200\n",
      "38/38 [==============================] - 81s 2s/step - loss: 0.1863 - acc: 0.9338 - val_loss: 0.6073 - val_acc: 0.8750\n",
      "Epoch 49/200\n",
      "38/38 [==============================] - 82s 2s/step - loss: 0.2343 - acc: 0.9073 - val_loss: 0.6097 - val_acc: 0.8889\n",
      "Epoch 50/200\n",
      "38/38 [==============================] - 81s 2s/step - loss: 0.2228 - acc: 0.9106 - val_loss: 0.4082 - val_acc: 0.9167\n"
     ]
    }
   ],
   "source": [
    "#train the model\n",
    "history = model.fit(train_generator,\n",
    "                              steps_per_epoch = total_train // batch_size,\n",
    "                              validation_data = validation_generator,\n",
    "                              epochs= 200,\n",
    "                              validation_steps =  total_val // batch_size,\n",
    "                              callbacks =[callbacks])"
   ]
  },
  {
   "cell_type": "code",
   "execution_count": 25,
   "metadata": {},
   "outputs": [
    {
     "data": {
      "image/png": "[encoded data removed]",
      "text/plain": [
       "<Figure size 432x288 with 1 Axes>"
      ]
     },
     "metadata": {
      "needs_background": "light"
     },
     "output_type": "display_data"
    },
    {
     "data": {
      "text/plain": [
       "<Figure size 432x288 with 0 Axes>"
      ]
     },
     "metadata": {},
     "output_type": "display_data"
    },
    {
     "data": {
      "image/png": "[encoded data removed]",
      "text/plain": [
       "<Figure size 432x288 with 1 Axes>"
      ]
     },
     "metadata": {
      "needs_background": "light"
     },
     "output_type": "display_data"
    },
    {
     "data": {
      "text/plain": [
       "<Figure size 432x288 with 0 Axes>"
      ]
     },
     "metadata": {},
     "output_type": "display_data"
    }
   ],
   "source": [
    "#look at the metrics from training\n",
    "%matplotlib inline\n",
    "\n",
    "acc = history.history['acc']\n",
    "val_acc = history.history['val_acc']\n",
    "loss = history.history['loss']\n",
    "val_loss = history.history['val_loss']\n",
    "\n",
    "epochs = range(len(acc))\n",
    "\n",
    "plt.plot(epochs, acc, 'r', label='Training accuracy')\n",
    "plt.plot(epochs, val_acc, 'b', label='Validation accuracy')\n",
    "\n",
    "plt.title('Training and validation accuracy')\n",
    "plt.legend(loc=0)\n",
    "plt.figure()\n",
    "plt.show()\n",
    "\n",
    "plt.plot(epochs, loss, 'r--', label='Training loss')\n",
    "plt.plot(epochs, val_loss, 'b--', label='Validation loss')\n",
    "plt.title('Training and validation loss') \n",
    "plt.legend(loc=0)\n",
    "plt.figure()\n",
    "plt.show()"
   ]
  },
  {
   "cell_type": "code",
   "execution_count": 5,
   "metadata": {},
   "outputs": [],
   "source": [
    "#save the model\n",
    "filepath = './saved_VGG16_retrain_slower'\n",
    "model.save(filepath)\n",
    "\n",
    "#load model\n",
    "#model = tf.keras.models.load_model(filepath, compile = True)"
   ]
  }
 ],
 "metadata": {
  "kernelspec": {
   "display_name": "Python 3",
   "language": "python",
   "name": "python3"
  },
  "language_info": {
   "codemirror_mode": {
    "name": "ipython",
    "version": 3
   },
   "file_extension": ".py",
   "mimetype": "text/x-python",
   "name": "python",
   "nbconvert_exporter": "python",
   "pygments_lexer": "ipython3",
   "version": "3.8.2"
  }
 },
 "nbformat": 4,
 "nbformat_minor": 2
}
